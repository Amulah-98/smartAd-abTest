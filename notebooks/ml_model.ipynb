{
 "cells": [
  {
   "cell_type": "markdown",
   "id": "6e8ee38d",
   "metadata": {},
   "source": [
    "# ML modelling with MLOps\n",
    "#### Split data by browser and platform_os, and version each split as a new version of the data in dvc.\n"
   ]
  },
  {
   "cell_type": "code",
   "execution_count": 1,
   "id": "227213ac",
   "metadata": {},
   "outputs": [],
   "source": [
    "# Importing Pandas an Numpy Libraries to use on manipulating our Data\n",
    "import pandas as pd\n",
    "import numpy as np"
   ]
  },
  {
   "cell_type": "code",
   "execution_count": 2,
   "id": "ca9592a8",
   "metadata": {},
   "outputs": [],
   "source": [
    "# To Preproccesing our data\n",
    "from sklearn.preprocessing import LabelEncoder"
   ]
  },
  {
   "cell_type": "code",
   "execution_count": 3,
   "id": "a06aa8ae",
   "metadata": {},
   "outputs": [],
   "source": [
    "# To fill missing values\n",
    "from sklearn.impute import SimpleImputer"
   ]
  },
  {
   "cell_type": "code",
   "execution_count": 4,
   "id": "62340022",
   "metadata": {},
   "outputs": [],
   "source": [
    "# To Split our train data\n",
    "from sklearn.model_selection import train_test_split"
   ]
  },
  {
   "cell_type": "code",
   "execution_count": 5,
   "id": "6dd6578e",
   "metadata": {},
   "outputs": [],
   "source": [
    "# To Visualize Data\n",
    "import matplotlib.pyplot as plt\n",
    "import seaborn as sns"
   ]
  },
  {
   "cell_type": "code",
   "execution_count": 6,
   "id": "a433f220",
   "metadata": {},
   "outputs": [],
   "source": [
    "# To Train our data\n",
    "from xgboost import XGBClassifier\n",
    "from sklearn.tree import DecisionTreeClassifier\n",
    "from sklearn.ensemble import RandomForestClassifier\n",
    "from sklearn.neighbors import KNeighborsClassifier\n",
    "from sklearn.linear_model import LogisticRegression\n",
    "from sklearn.naive_bayes import BernoulliNB, GaussianNB"
   ]
  },
  {
   "cell_type": "code",
   "execution_count": 49,
   "id": "58bff34b",
   "metadata": {},
   "outputs": [],
   "source": [
    "#Adding scripts path\n",
    "import sys, os\n",
    "sys.path.insert(0,'../scripts/')\n",
    "from data_preProcess import data_preProcess\n",
    "from data_info import dataframeInfo \n",
    "from data_visualization import exploration\n",
    "from logistic_reg import LogesticRegressionModel\n",
    "from xg import XGBClassifierModel\n",
    "from tree import DecisionTreesModel"
   ]
  },
  {
   "cell_type": "code",
   "execution_count": 8,
   "id": "ccac568a",
   "metadata": {},
   "outputs": [],
   "source": [
    "# ignore warnings\n",
    "import warnings\n",
    "warnings.filterwarnings(action=\"ignore\")"
   ]
  },
  {
   "cell_type": "code",
   "execution_count": 9,
   "id": "572f14d2",
   "metadata": {},
   "outputs": [],
   "source": [
    "# To evaluate end result we have\n",
    "from sklearn.metrics import accuracy_score, confusion_matrix\n",
    "from sklearn.model_selection import LeaveOneOut\n",
    "from sklearn.model_selection import cross_val_score"
   ]
  },
  {
   "cell_type": "code",
   "execution_count": 10,
   "id": "59cbd2d0",
   "metadata": {},
   "outputs": [],
   "source": [
    "#Importing data version controls\n",
    "import dvc.api"
   ]
  },
  {
   "cell_type": "code",
   "execution_count": 11,
   "id": "e27abcee",
   "metadata": {},
   "outputs": [
    {
     "data": {
      "text/html": [
       "<div>\n",
       "<style scoped>\n",
       "    .dataframe tbody tr th:only-of-type {\n",
       "        vertical-align: middle;\n",
       "    }\n",
       "\n",
       "    .dataframe tbody tr th {\n",
       "        vertical-align: top;\n",
       "    }\n",
       "\n",
       "    .dataframe thead th {\n",
       "        text-align: right;\n",
       "    }\n",
       "</style>\n",
       "<table border=\"1\" class=\"dataframe\">\n",
       "  <thead>\n",
       "    <tr style=\"text-align: right;\">\n",
       "      <th></th>\n",
       "      <th>auction_id</th>\n",
       "      <th>experiment</th>\n",
       "      <th>date</th>\n",
       "      <th>hour</th>\n",
       "      <th>device_make</th>\n",
       "      <th>platform_os</th>\n",
       "      <th>browser</th>\n",
       "      <th>yes</th>\n",
       "      <th>no</th>\n",
       "    </tr>\n",
       "  </thead>\n",
       "  <tbody>\n",
       "    <tr>\n",
       "      <th>0</th>\n",
       "      <td>0008ef63-77a7-448b-bd1e-075f42c55e39</td>\n",
       "      <td>exposed</td>\n",
       "      <td>2020-07-10</td>\n",
       "      <td>8</td>\n",
       "      <td>Generic Smartphone</td>\n",
       "      <td>6</td>\n",
       "      <td>Chrome Mobile</td>\n",
       "      <td>0</td>\n",
       "      <td>0</td>\n",
       "    </tr>\n",
       "    <tr>\n",
       "      <th>1</th>\n",
       "      <td>000eabc5-17ce-4137-8efe-44734d914446</td>\n",
       "      <td>exposed</td>\n",
       "      <td>2020-07-07</td>\n",
       "      <td>10</td>\n",
       "      <td>Generic Smartphone</td>\n",
       "      <td>6</td>\n",
       "      <td>Chrome Mobile</td>\n",
       "      <td>0</td>\n",
       "      <td>0</td>\n",
       "    </tr>\n",
       "    <tr>\n",
       "      <th>2</th>\n",
       "      <td>0016d14a-ae18-4a02-a204-6ba53b52f2ed</td>\n",
       "      <td>exposed</td>\n",
       "      <td>2020-07-05</td>\n",
       "      <td>2</td>\n",
       "      <td>E5823</td>\n",
       "      <td>6</td>\n",
       "      <td>Chrome Mobile WebView</td>\n",
       "      <td>0</td>\n",
       "      <td>1</td>\n",
       "    </tr>\n",
       "    <tr>\n",
       "      <th>3</th>\n",
       "      <td>00187412-2932-4542-a8ef-3633901c98d9</td>\n",
       "      <td>control</td>\n",
       "      <td>2020-07-03</td>\n",
       "      <td>15</td>\n",
       "      <td>Samsung SM-A705FN</td>\n",
       "      <td>6</td>\n",
       "      <td>Facebook</td>\n",
       "      <td>0</td>\n",
       "      <td>0</td>\n",
       "    </tr>\n",
       "    <tr>\n",
       "      <th>4</th>\n",
       "      <td>001a7785-d3fe-4e11-a344-c8735acacc2c</td>\n",
       "      <td>control</td>\n",
       "      <td>2020-07-03</td>\n",
       "      <td>15</td>\n",
       "      <td>Generic Smartphone</td>\n",
       "      <td>6</td>\n",
       "      <td>Chrome Mobile</td>\n",
       "      <td>0</td>\n",
       "      <td>0</td>\n",
       "    </tr>\n",
       "  </tbody>\n",
       "</table>\n",
       "</div>"
      ],
      "text/plain": [
       "                             auction_id experiment        date  hour  \\\n",
       "0  0008ef63-77a7-448b-bd1e-075f42c55e39    exposed  2020-07-10     8   \n",
       "1  000eabc5-17ce-4137-8efe-44734d914446    exposed  2020-07-07    10   \n",
       "2  0016d14a-ae18-4a02-a204-6ba53b52f2ed    exposed  2020-07-05     2   \n",
       "3  00187412-2932-4542-a8ef-3633901c98d9    control  2020-07-03    15   \n",
       "4  001a7785-d3fe-4e11-a344-c8735acacc2c    control  2020-07-03    15   \n",
       "\n",
       "          device_make  platform_os                browser  yes  no  \n",
       "0  Generic Smartphone            6          Chrome Mobile    0   0  \n",
       "1  Generic Smartphone            6          Chrome Mobile    0   0  \n",
       "2               E5823            6  Chrome Mobile WebView    0   1  \n",
       "3   Samsung SM-A705FN            6               Facebook    0   0  \n",
       "4  Generic Smartphone            6          Chrome Mobile    0   0  "
      ]
     },
     "execution_count": 11,
     "metadata": {},
     "output_type": "execute_result"
    }
   ],
   "source": [
    "# importing dataset\n",
    "df = pd.read_csv(\"../data/AdSmartABdata.csv\")\n",
    "df.head()"
   ]
  },
  {
   "cell_type": "code",
   "execution_count": 12,
   "id": "ee0bcec1",
   "metadata": {},
   "outputs": [],
   "source": [
    "# object creation\n",
    "data_preProcess = data_preProcess(df)\n",
    "data_info = dataframeInfo(df)"
   ]
  },
  {
   "cell_type": "code",
   "execution_count": 13,
   "id": "fbfd0a13",
   "metadata": {},
   "outputs": [
    {
     "data": {
      "text/html": [
       "<div>\n",
       "<style scoped>\n",
       "    .dataframe tbody tr th:only-of-type {\n",
       "        vertical-align: middle;\n",
       "    }\n",
       "\n",
       "    .dataframe tbody tr th {\n",
       "        vertical-align: top;\n",
       "    }\n",
       "\n",
       "    .dataframe thead th {\n",
       "        text-align: right;\n",
       "    }\n",
       "</style>\n",
       "<table border=\"1\" class=\"dataframe\">\n",
       "  <thead>\n",
       "    <tr style=\"text-align: right;\">\n",
       "      <th></th>\n",
       "      <th>auction_id</th>\n",
       "      <th>experiment</th>\n",
       "      <th>date</th>\n",
       "      <th>hour</th>\n",
       "      <th>device_make</th>\n",
       "      <th>platform_os</th>\n",
       "      <th>browser</th>\n",
       "      <th>yes</th>\n",
       "      <th>no</th>\n",
       "    </tr>\n",
       "  </thead>\n",
       "  <tbody>\n",
       "    <tr>\n",
       "      <th>16</th>\n",
       "      <td>008aafdf-deef-4482-8fec-d98e3da054da</td>\n",
       "      <td>exposed</td>\n",
       "      <td>2020-07-04</td>\n",
       "      <td>16</td>\n",
       "      <td>Generic Smartphone</td>\n",
       "      <td>6</td>\n",
       "      <td>Chrome Mobile</td>\n",
       "      <td>1</td>\n",
       "      <td>0</td>\n",
       "    </tr>\n",
       "    <tr>\n",
       "      <th>23</th>\n",
       "      <td>00b6fadb-10bd-49e3-a778-290da82f7a8d</td>\n",
       "      <td>control</td>\n",
       "      <td>2020-07-08</td>\n",
       "      <td>4</td>\n",
       "      <td>Samsung SM-A202F</td>\n",
       "      <td>6</td>\n",
       "      <td>Facebook</td>\n",
       "      <td>1</td>\n",
       "      <td>0</td>\n",
       "    </tr>\n",
       "    <tr>\n",
       "      <th>45</th>\n",
       "      <td>018af862-486e-4da1-a85b-71872120e57c</td>\n",
       "      <td>control</td>\n",
       "      <td>2020-07-03</td>\n",
       "      <td>15</td>\n",
       "      <td>Generic Smartphone</td>\n",
       "      <td>6</td>\n",
       "      <td>Chrome Mobile</td>\n",
       "      <td>1</td>\n",
       "      <td>0</td>\n",
       "    </tr>\n",
       "    <tr>\n",
       "      <th>65</th>\n",
       "      <td>023ec7b5-cb8f-49a5-995f-e0d7c2f702e5</td>\n",
       "      <td>exposed</td>\n",
       "      <td>2020-07-09</td>\n",
       "      <td>13</td>\n",
       "      <td>Samsung SM-G935F</td>\n",
       "      <td>6</td>\n",
       "      <td>Facebook</td>\n",
       "      <td>1</td>\n",
       "      <td>0</td>\n",
       "    </tr>\n",
       "    <tr>\n",
       "      <th>89</th>\n",
       "      <td>02efdb70-8596-4f3f-b0b2-b91e194f61f7</td>\n",
       "      <td>exposed</td>\n",
       "      <td>2020-07-05</td>\n",
       "      <td>6</td>\n",
       "      <td>Generic Smartphone</td>\n",
       "      <td>6</td>\n",
       "      <td>Chrome Mobile</td>\n",
       "      <td>1</td>\n",
       "      <td>0</td>\n",
       "    </tr>\n",
       "  </tbody>\n",
       "</table>\n",
       "</div>"
      ],
      "text/plain": [
       "                              auction_id experiment        date  hour  \\\n",
       "16  008aafdf-deef-4482-8fec-d98e3da054da    exposed  2020-07-04    16   \n",
       "23  00b6fadb-10bd-49e3-a778-290da82f7a8d    control  2020-07-08     4   \n",
       "45  018af862-486e-4da1-a85b-71872120e57c    control  2020-07-03    15   \n",
       "65  023ec7b5-cb8f-49a5-995f-e0d7c2f702e5    exposed  2020-07-09    13   \n",
       "89  02efdb70-8596-4f3f-b0b2-b91e194f61f7    exposed  2020-07-05     6   \n",
       "\n",
       "           device_make  platform_os        browser  yes  no  \n",
       "16  Generic Smartphone            6  Chrome Mobile    1   0  \n",
       "23    Samsung SM-A202F            6       Facebook    1   0  \n",
       "45  Generic Smartphone            6  Chrome Mobile    1   0  \n",
       "65    Samsung SM-G935F            6       Facebook    1   0  \n",
       "89  Generic Smartphone            6  Chrome Mobile    1   0  "
      ]
     },
     "execution_count": 13,
     "metadata": {},
     "output_type": "execute_result"
    }
   ],
   "source": [
    "# getting users who only answers yes or no\n",
    "response = df[df['yes'] == 1].append(df[df['no'] == 1])\n",
    "response.head(5)"
   ]
  },
  {
   "cell_type": "code",
   "execution_count": 14,
   "id": "aecbfd19",
   "metadata": {},
   "outputs": [
    {
     "data": {
      "text/html": [
       "<div>\n",
       "<style scoped>\n",
       "    .dataframe tbody tr th:only-of-type {\n",
       "        vertical-align: middle;\n",
       "    }\n",
       "\n",
       "    .dataframe tbody tr th {\n",
       "        vertical-align: top;\n",
       "    }\n",
       "\n",
       "    .dataframe thead th {\n",
       "        text-align: right;\n",
       "    }\n",
       "</style>\n",
       "<table border=\"1\" class=\"dataframe\">\n",
       "  <thead>\n",
       "    <tr style=\"text-align: right;\">\n",
       "      <th></th>\n",
       "      <th>auction_id</th>\n",
       "      <th>experiment</th>\n",
       "      <th>date</th>\n",
       "      <th>hour</th>\n",
       "      <th>device_make</th>\n",
       "      <th>platform_os</th>\n",
       "      <th>browser</th>\n",
       "      <th>response</th>\n",
       "    </tr>\n",
       "  </thead>\n",
       "  <tbody>\n",
       "    <tr>\n",
       "      <th>0</th>\n",
       "      <td>008aafdf-deef-4482-8fec-d98e3da054da</td>\n",
       "      <td>exposed</td>\n",
       "      <td>2020-07-04</td>\n",
       "      <td>16</td>\n",
       "      <td>Generic Smartphone</td>\n",
       "      <td>6</td>\n",
       "      <td>Chrome Mobile</td>\n",
       "      <td>1</td>\n",
       "    </tr>\n",
       "    <tr>\n",
       "      <th>1</th>\n",
       "      <td>00b6fadb-10bd-49e3-a778-290da82f7a8d</td>\n",
       "      <td>control</td>\n",
       "      <td>2020-07-08</td>\n",
       "      <td>4</td>\n",
       "      <td>Samsung SM-A202F</td>\n",
       "      <td>6</td>\n",
       "      <td>Facebook</td>\n",
       "      <td>1</td>\n",
       "    </tr>\n",
       "    <tr>\n",
       "      <th>2</th>\n",
       "      <td>018af862-486e-4da1-a85b-71872120e57c</td>\n",
       "      <td>control</td>\n",
       "      <td>2020-07-03</td>\n",
       "      <td>15</td>\n",
       "      <td>Generic Smartphone</td>\n",
       "      <td>6</td>\n",
       "      <td>Chrome Mobile</td>\n",
       "      <td>1</td>\n",
       "    </tr>\n",
       "    <tr>\n",
       "      <th>3</th>\n",
       "      <td>023ec7b5-cb8f-49a5-995f-e0d7c2f702e5</td>\n",
       "      <td>exposed</td>\n",
       "      <td>2020-07-09</td>\n",
       "      <td>13</td>\n",
       "      <td>Samsung SM-G935F</td>\n",
       "      <td>6</td>\n",
       "      <td>Facebook</td>\n",
       "      <td>1</td>\n",
       "    </tr>\n",
       "    <tr>\n",
       "      <th>4</th>\n",
       "      <td>02efdb70-8596-4f3f-b0b2-b91e194f61f7</td>\n",
       "      <td>exposed</td>\n",
       "      <td>2020-07-05</td>\n",
       "      <td>6</td>\n",
       "      <td>Generic Smartphone</td>\n",
       "      <td>6</td>\n",
       "      <td>Chrome Mobile</td>\n",
       "      <td>1</td>\n",
       "    </tr>\n",
       "  </tbody>\n",
       "</table>\n",
       "</div>"
      ],
      "text/plain": [
       "                             auction_id experiment        date  hour  \\\n",
       "0  008aafdf-deef-4482-8fec-d98e3da054da    exposed  2020-07-04    16   \n",
       "1  00b6fadb-10bd-49e3-a778-290da82f7a8d    control  2020-07-08     4   \n",
       "2  018af862-486e-4da1-a85b-71872120e57c    control  2020-07-03    15   \n",
       "3  023ec7b5-cb8f-49a5-995f-e0d7c2f702e5    exposed  2020-07-09    13   \n",
       "4  02efdb70-8596-4f3f-b0b2-b91e194f61f7    exposed  2020-07-05     6   \n",
       "\n",
       "          device_make  platform_os        browser  response  \n",
       "0  Generic Smartphone            6  Chrome Mobile         1  \n",
       "1    Samsung SM-A202F            6       Facebook         1  \n",
       "2  Generic Smartphone            6  Chrome Mobile         1  \n",
       "3    Samsung SM-G935F            6       Facebook         1  \n",
       "4  Generic Smartphone            6  Chrome Mobile         1  "
      ]
     },
     "execution_count": 14,
     "metadata": {},
     "output_type": "execute_result"
    }
   ],
   "source": [
    "# creating response column by removing yes and no\n",
    "df1 = response[response['yes'] == 1].drop(['yes','no'], axis = 1)\n",
    "df1['response'] = 1\n",
    "df2 = response[response['no'] == 1].drop(['yes','no'], axis = 1)\n",
    "df2['response'] = 0\n",
    "responsee = df1.append(df2).reset_index(drop=True)\n",
    "responsee.head(5)"
   ]
  },
  {
   "cell_type": "code",
   "execution_count": 23,
   "id": "a0828b9d",
   "metadata": {},
   "outputs": [],
   "source": [
    "# removed non-responsive peoples and clean data produced\n",
    "responsee.to_csv('../data2/clean_AdSmartABdata.csv')"
   ]
  },
  {
   "cell_type": "code",
   "execution_count": null,
   "id": "11a97b1a",
   "metadata": {},
   "outputs": [],
   "source": [
    "#Importing the collected Data\n",
    "path = 'data2/clean_AdSmartABdata.csv'\n",
    "repo = 'https://github.com/Abel-Blue/smartAd-abTest'\n",
    "rev = 'version1'\n",
    "data_url = dvc.api.get_url(path=path, repo=repo, rev=rev)\n",
    "collected_data = pd.read_csv(data_url)"
   ]
  },
  {
   "cell_type": "markdown",
   "id": "5b0c05f3",
   "metadata": {},
   "source": [
    "# Label One Hot Encoder"
   ]
  },
  {
   "cell_type": "code",
   "execution_count": 24,
   "id": "9c382872",
   "metadata": {},
   "outputs": [],
   "source": [
    "label_encoder = LabelEncoder()\n",
    "# \n",
    "responsee['experiment'] = label_encoder.fit_transform(responsee['experiment'])\n",
    "responsee['date'] = label_encoder.fit_transform(responsee['date'])\n",
    "responsee['hour'] = label_encoder.fit_transform(responsee['hour'])\n",
    "responsee['device_make'] = label_encoder.fit_transform(responsee['device_make'])\n",
    "responsee['platform_os'] = label_encoder.fit_transform(responsee['platform_os'])\n",
    "responsee['browser'] = label_encoder.fit_transform(responsee['browser'])\n",
    "responsee['response'] = label_encoder.fit_transform(responsee['response'])"
   ]
  },
  {
   "cell_type": "code",
   "execution_count": 25,
   "id": "c6e644bc",
   "metadata": {
    "scrolled": true
   },
   "outputs": [
    {
     "data": {
      "text/html": [
       "<div>\n",
       "<style scoped>\n",
       "    .dataframe tbody tr th:only-of-type {\n",
       "        vertical-align: middle;\n",
       "    }\n",
       "\n",
       "    .dataframe tbody tr th {\n",
       "        vertical-align: top;\n",
       "    }\n",
       "\n",
       "    .dataframe thead th {\n",
       "        text-align: right;\n",
       "    }\n",
       "</style>\n",
       "<table border=\"1\" class=\"dataframe\">\n",
       "  <thead>\n",
       "    <tr style=\"text-align: right;\">\n",
       "      <th></th>\n",
       "      <th>auction_id</th>\n",
       "      <th>experiment</th>\n",
       "      <th>date</th>\n",
       "      <th>hour</th>\n",
       "      <th>device_make</th>\n",
       "      <th>platform_os</th>\n",
       "      <th>browser</th>\n",
       "      <th>response</th>\n",
       "    </tr>\n",
       "  </thead>\n",
       "  <tbody>\n",
       "    <tr>\n",
       "      <th>0</th>\n",
       "      <td>008aafdf-deef-4482-8fec-d98e3da054da</td>\n",
       "      <td>1</td>\n",
       "      <td>1</td>\n",
       "      <td>16</td>\n",
       "      <td>13</td>\n",
       "      <td>1</td>\n",
       "      <td>1</td>\n",
       "      <td>1</td>\n",
       "    </tr>\n",
       "    <tr>\n",
       "      <th>1</th>\n",
       "      <td>00b6fadb-10bd-49e3-a778-290da82f7a8d</td>\n",
       "      <td>0</td>\n",
       "      <td>5</td>\n",
       "      <td>4</td>\n",
       "      <td>43</td>\n",
       "      <td>1</td>\n",
       "      <td>4</td>\n",
       "      <td>1</td>\n",
       "    </tr>\n",
       "    <tr>\n",
       "      <th>2</th>\n",
       "      <td>018af862-486e-4da1-a85b-71872120e57c</td>\n",
       "      <td>0</td>\n",
       "      <td>0</td>\n",
       "      <td>15</td>\n",
       "      <td>13</td>\n",
       "      <td>1</td>\n",
       "      <td>1</td>\n",
       "      <td>1</td>\n",
       "    </tr>\n",
       "    <tr>\n",
       "      <th>3</th>\n",
       "      <td>023ec7b5-cb8f-49a5-995f-e0d7c2f702e5</td>\n",
       "      <td>1</td>\n",
       "      <td>6</td>\n",
       "      <td>13</td>\n",
       "      <td>65</td>\n",
       "      <td>1</td>\n",
       "      <td>4</td>\n",
       "      <td>1</td>\n",
       "    </tr>\n",
       "    <tr>\n",
       "      <th>4</th>\n",
       "      <td>02efdb70-8596-4f3f-b0b2-b91e194f61f7</td>\n",
       "      <td>1</td>\n",
       "      <td>2</td>\n",
       "      <td>6</td>\n",
       "      <td>13</td>\n",
       "      <td>1</td>\n",
       "      <td>1</td>\n",
       "      <td>1</td>\n",
       "    </tr>\n",
       "  </tbody>\n",
       "</table>\n",
       "</div>"
      ],
      "text/plain": [
       "                             auction_id  experiment  date  hour  device_make  \\\n",
       "0  008aafdf-deef-4482-8fec-d98e3da054da           1     1    16           13   \n",
       "1  00b6fadb-10bd-49e3-a778-290da82f7a8d           0     5     4           43   \n",
       "2  018af862-486e-4da1-a85b-71872120e57c           0     0    15           13   \n",
       "3  023ec7b5-cb8f-49a5-995f-e0d7c2f702e5           1     6    13           65   \n",
       "4  02efdb70-8596-4f3f-b0b2-b91e194f61f7           1     2     6           13   \n",
       "\n",
       "   platform_os  browser  response  \n",
       "0            1        1         1  \n",
       "1            1        4         1  \n",
       "2            1        1         1  \n",
       "3            1        4         1  \n",
       "4            1        1         1  "
      ]
     },
     "execution_count": 25,
     "metadata": {},
     "output_type": "execute_result"
    }
   ],
   "source": [
    "responsee.head()"
   ]
  },
  {
   "cell_type": "markdown",
   "id": "e2ba3696",
   "metadata": {},
   "source": [
    "# Version the datasets"
   ]
  },
  {
   "cell_type": "code",
   "execution_count": 26,
   "id": "58701078",
   "metadata": {},
   "outputs": [],
   "source": [
    "browser_df = responsee[[\"experiment\", \"date\", \"hour\", \"device_make\", \"browser\", \"response\"]]\n",
    "browser_df.to_csv(\"../data2/clean_AdSmartABdata.csv\")"
   ]
  },
  {
   "cell_type": "code",
   "execution_count": 21,
   "id": "e663bc4f",
   "metadata": {},
   "outputs": [],
   "source": [
    "# versioning browser \n",
    "path = 'data2/clean_AdSmartABdata.csv'\n",
    "repo = 'https://github.com/Abel-Blue/smartAd-abTest'\n",
    "rev = 'browserEnconded-v1'\n",
    "data_url = dvc.api.get_url(path=path, repo=repo, rev=rev)\n",
    "collected_data = pd.read_csv(data_url)"
   ]
  },
  {
   "cell_type": "code",
   "execution_count": 27,
   "id": "266b1cd2",
   "metadata": {},
   "outputs": [],
   "source": [
    "platfrom_df = responsee[[\"experiment\", \"date\" , \"hour\", \"device_make\", \"platform_os\", \"response\"]]\n",
    "platfrom_df.to_csv(\"../data2/clean_AdSmartABdata.csv\")"
   ]
  },
  {
   "cell_type": "code",
   "execution_count": 23,
   "id": "62674e50",
   "metadata": {},
   "outputs": [],
   "source": [
    "# versioning platform\n",
    "path = 'data2/clean_AdSmartABdata.csv'\n",
    "repo = 'https://github.com/Abel-Blue/smartAd-abTest'\n",
    "rev = 'OSencoded-v1'\n",
    "data_url = dvc.api.get_url(path=path, repo=repo, rev=rev)\n",
    "collected_data = pd.read_csv(data_url)"
   ]
  },
  {
   "cell_type": "code",
   "execution_count": 28,
   "id": "275a325c",
   "metadata": {},
   "outputs": [
    {
     "data": {
      "text/html": [
       "<div>\n",
       "<style scoped>\n",
       "    .dataframe tbody tr th:only-of-type {\n",
       "        vertical-align: middle;\n",
       "    }\n",
       "\n",
       "    .dataframe tbody tr th {\n",
       "        vertical-align: top;\n",
       "    }\n",
       "\n",
       "    .dataframe thead th {\n",
       "        text-align: right;\n",
       "    }\n",
       "</style>\n",
       "<table border=\"1\" class=\"dataframe\">\n",
       "  <thead>\n",
       "    <tr style=\"text-align: right;\">\n",
       "      <th></th>\n",
       "      <th>experiment</th>\n",
       "      <th>date</th>\n",
       "      <th>hour</th>\n",
       "      <th>device_make</th>\n",
       "      <th>browser</th>\n",
       "      <th>response</th>\n",
       "    </tr>\n",
       "  </thead>\n",
       "  <tbody>\n",
       "    <tr>\n",
       "      <th>0</th>\n",
       "      <td>1</td>\n",
       "      <td>1</td>\n",
       "      <td>16</td>\n",
       "      <td>13</td>\n",
       "      <td>1</td>\n",
       "      <td>1</td>\n",
       "    </tr>\n",
       "    <tr>\n",
       "      <th>1</th>\n",
       "      <td>0</td>\n",
       "      <td>5</td>\n",
       "      <td>4</td>\n",
       "      <td>43</td>\n",
       "      <td>4</td>\n",
       "      <td>1</td>\n",
       "    </tr>\n",
       "    <tr>\n",
       "      <th>2</th>\n",
       "      <td>0</td>\n",
       "      <td>0</td>\n",
       "      <td>15</td>\n",
       "      <td>13</td>\n",
       "      <td>1</td>\n",
       "      <td>1</td>\n",
       "    </tr>\n",
       "    <tr>\n",
       "      <th>3</th>\n",
       "      <td>1</td>\n",
       "      <td>6</td>\n",
       "      <td>13</td>\n",
       "      <td>65</td>\n",
       "      <td>4</td>\n",
       "      <td>1</td>\n",
       "    </tr>\n",
       "    <tr>\n",
       "      <th>4</th>\n",
       "      <td>1</td>\n",
       "      <td>2</td>\n",
       "      <td>6</td>\n",
       "      <td>13</td>\n",
       "      <td>1</td>\n",
       "      <td>1</td>\n",
       "    </tr>\n",
       "  </tbody>\n",
       "</table>\n",
       "</div>"
      ],
      "text/plain": [
       "   experiment  date  hour  device_make  browser  response\n",
       "0           1     1    16           13        1         1\n",
       "1           0     5     4           43        4         1\n",
       "2           0     0    15           13        1         1\n",
       "3           1     6    13           65        4         1\n",
       "4           1     2     6           13        1         1"
      ]
     },
     "execution_count": 28,
     "metadata": {},
     "output_type": "execute_result"
    }
   ],
   "source": [
    "browser_df.head()"
   ]
  },
  {
   "cell_type": "code",
   "execution_count": 29,
   "id": "3a695aac",
   "metadata": {},
   "outputs": [
    {
     "data": {
      "text/html": [
       "<div>\n",
       "<style scoped>\n",
       "    .dataframe tbody tr th:only-of-type {\n",
       "        vertical-align: middle;\n",
       "    }\n",
       "\n",
       "    .dataframe tbody tr th {\n",
       "        vertical-align: top;\n",
       "    }\n",
       "\n",
       "    .dataframe thead th {\n",
       "        text-align: right;\n",
       "    }\n",
       "</style>\n",
       "<table border=\"1\" class=\"dataframe\">\n",
       "  <thead>\n",
       "    <tr style=\"text-align: right;\">\n",
       "      <th></th>\n",
       "      <th>experiment</th>\n",
       "      <th>date</th>\n",
       "      <th>hour</th>\n",
       "      <th>device_make</th>\n",
       "      <th>platform_os</th>\n",
       "      <th>response</th>\n",
       "    </tr>\n",
       "  </thead>\n",
       "  <tbody>\n",
       "    <tr>\n",
       "      <th>0</th>\n",
       "      <td>1</td>\n",
       "      <td>1</td>\n",
       "      <td>16</td>\n",
       "      <td>13</td>\n",
       "      <td>1</td>\n",
       "      <td>1</td>\n",
       "    </tr>\n",
       "    <tr>\n",
       "      <th>1</th>\n",
       "      <td>0</td>\n",
       "      <td>5</td>\n",
       "      <td>4</td>\n",
       "      <td>43</td>\n",
       "      <td>1</td>\n",
       "      <td>1</td>\n",
       "    </tr>\n",
       "    <tr>\n",
       "      <th>2</th>\n",
       "      <td>0</td>\n",
       "      <td>0</td>\n",
       "      <td>15</td>\n",
       "      <td>13</td>\n",
       "      <td>1</td>\n",
       "      <td>1</td>\n",
       "    </tr>\n",
       "    <tr>\n",
       "      <th>3</th>\n",
       "      <td>1</td>\n",
       "      <td>6</td>\n",
       "      <td>13</td>\n",
       "      <td>65</td>\n",
       "      <td>1</td>\n",
       "      <td>1</td>\n",
       "    </tr>\n",
       "    <tr>\n",
       "      <th>4</th>\n",
       "      <td>1</td>\n",
       "      <td>2</td>\n",
       "      <td>6</td>\n",
       "      <td>13</td>\n",
       "      <td>1</td>\n",
       "      <td>1</td>\n",
       "    </tr>\n",
       "  </tbody>\n",
       "</table>\n",
       "</div>"
      ],
      "text/plain": [
       "   experiment  date  hour  device_make  platform_os  response\n",
       "0           1     1    16           13            1         1\n",
       "1           0     5     4           43            1         1\n",
       "2           0     0    15           13            1         1\n",
       "3           1     6    13           65            1         1\n",
       "4           1     2     6           13            1         1"
      ]
     },
     "execution_count": 29,
     "metadata": {},
     "output_type": "execute_result"
    }
   ],
   "source": [
    "platfrom_df.head()"
   ]
  },
  {
   "cell_type": "markdown",
   "id": "010c8515",
   "metadata": {},
   "source": [
    "# Splitting the data into browser"
   ]
  },
  {
   "cell_type": "code",
   "execution_count": 30,
   "id": "910d28e4",
   "metadata": {},
   "outputs": [],
   "source": [
    "# Splitting the data according to features and the target feature\n",
    "X1 = browser_df.drop('response', axis=1) #prediction features\n",
    "y1 = browser_df['response'] #target feature\n",
    "# \n",
    "# Splitting the data according to features and the target feature\n",
    "X11 = platfrom_df.drop('response', axis=1) #prediction features\n",
    "y11 = platfrom_df['response'] #target feature"
   ]
  },
  {
   "cell_type": "code",
   "execution_count": 31,
   "id": "ce014957",
   "metadata": {},
   "outputs": [],
   "source": [
    "# Splitting our dataset into training and testing dataset\n",
    "X1_train, X1_test, y1_train, y1_test = train_test_split(X1, y1, test_size=0.1, random_state=42)\n",
    "# train the platform df\n",
    "X11_train, X11_test, y11_train, y11_test = train_test_split(X11, y11, test_size=0.1, random_state=42)\n",
    "#training set 70%, 20% validation, test set 10%"
   ]
  },
  {
   "cell_type": "markdown",
   "id": "b3cb0aaf",
   "metadata": {},
   "source": [
    "# 1 - Logistic Regression"
   ]
  },
  {
   "cell_type": "markdown",
   "id": "008fc691",
   "metadata": {},
   "source": [
    "## Using Browser Dataframe \n",
    "### 5-Fold Cross-validation\n",
    "Cross-validation is a resampling procedure used to evaluate machine learning models on a limited data sample."
   ]
  },
  {
   "cell_type": "code",
   "execution_count": 32,
   "id": "d7eb9b51",
   "metadata": {},
   "outputs": [
    {
     "name": "stdout",
     "output_type": "stream",
     "text": [
      "Predicted: [0 0 1 0 0 0 0 0 1 0]\n",
      "Actual: 900     0\n",
      "1003    0\n",
      "671     0\n",
      "620     0\n",
      "926     0\n",
      "997     0\n",
      "745     0\n",
      "938     0\n",
      "451     1\n",
      "439     1\n",
      "Name: response, dtype: int64\n"
     ]
    }
   ],
   "source": [
    "# Define Logistic Regression Model\n",
    "log = LogisticRegression()\n",
    "# We fit our model with our train data\n",
    "log.fit(X1_train, y1_train)\n",
    "# Then predict results from X_test data\n",
    "pred_log = log.predict(X1_test)\n",
    "\n",
    "# See First 10 Predictions and They Actual Values\n",
    "print(\"Predicted:\", pred_log[0:10])\n",
    "print(\"Actual:\", y1_test[0:10])"
   ]
  },
  {
   "cell_type": "code",
   "execution_count": 33,
   "id": "d57627a5",
   "metadata": {
    "scrolled": true
   },
   "outputs": [
    {
     "name": "stdout",
     "output_type": "stream",
     "text": [
      "[0.54017857 0.52678571 0.57589286 0.53363229 0.52914798]\n",
      "Mean LogisticRegression score : 0.5411274823830878\n"
     ]
    }
   ],
   "source": [
    "# Applying the 5-fold Cross validation on logistic Regression model\n",
    "regressor=LogisticRegression(random_state=None)\n",
    "regressor.fit(X1_train,y1_train) \n",
    "scores=cross_val_score(estimator=regressor,X=X1_train,y=y1_train,cv=5,scoring='accuracy')\n",
    "print(scores)\n",
    "print('Mean LogisticRegression score :',scores.mean())"
   ]
  },
  {
   "cell_type": "code",
   "execution_count": 34,
   "id": "88e1cb90",
   "metadata": {},
   "outputs": [
    {
     "data": {
      "text/html": [
       "<div>\n",
       "<style scoped>\n",
       "    .dataframe tbody tr th:only-of-type {\n",
       "        vertical-align: middle;\n",
       "    }\n",
       "\n",
       "    .dataframe tbody tr th {\n",
       "        vertical-align: top;\n",
       "    }\n",
       "\n",
       "    .dataframe thead th {\n",
       "        text-align: right;\n",
       "    }\n",
       "</style>\n",
       "<table border=\"1\" class=\"dataframe\">\n",
       "  <thead>\n",
       "    <tr style=\"text-align: right;\">\n",
       "      <th></th>\n",
       "      <th>Scores</th>\n",
       "    </tr>\n",
       "  </thead>\n",
       "  <tbody>\n",
       "    <tr>\n",
       "      <th>0</th>\n",
       "      <td>0.540179</td>\n",
       "    </tr>\n",
       "    <tr>\n",
       "      <th>1</th>\n",
       "      <td>0.526786</td>\n",
       "    </tr>\n",
       "    <tr>\n",
       "      <th>2</th>\n",
       "      <td>0.575893</td>\n",
       "    </tr>\n",
       "    <tr>\n",
       "      <th>3</th>\n",
       "      <td>0.533632</td>\n",
       "    </tr>\n",
       "    <tr>\n",
       "      <th>4</th>\n",
       "      <td>0.529148</td>\n",
       "    </tr>\n",
       "  </tbody>\n",
       "</table>\n",
       "</div>"
      ],
      "text/plain": [
       "     Scores\n",
       "0  0.540179\n",
       "1  0.526786\n",
       "2  0.575893\n",
       "3  0.533632\n",
       "4  0.529148"
      ]
     },
     "execution_count": 34,
     "metadata": {},
     "output_type": "execute_result"
    }
   ],
   "source": [
    "# saving the output to a pandas dataframe\n",
    "scores1 = pd.DataFrame(scores,columns=['Scores']) \n",
    "scores1.head()"
   ]
  },
  {
   "cell_type": "code",
   "execution_count": 35,
   "id": "1f547711",
   "metadata": {},
   "outputs": [
    {
     "data": {
      "image/png": "[encoded data removed]",
      "text/plain": [
       "<Figure size 432x288 with 1 Axes>"
      ]
     },
     "metadata": {},
     "output_type": "display_data"
    }
   ],
   "source": [
    "# plotting the accuracy score\n",
    "sns.set(style=\"dark\", rc={\"lines.linewidth\": 9})\n",
    "sns.barplot(x=['experiment','date','hour','devicemake','browser'],y=\"Scores\",data=scores1, color=\"cyan\")\n",
    "plt.show()\n",
    "sns.set()"
   ]
  },
  {
   "cell_type": "markdown",
   "id": "b489253a",
   "metadata": {},
   "source": [
    "## Feature importance"
   ]
  },
  {
   "cell_type": "code",
   "execution_count": 36,
   "id": "59450aaa",
   "metadata": {},
   "outputs": [
    {
     "name": "stdout",
     "output_type": "stream",
     "text": [
      "[[ 0.05343081 -0.00484439  0.1299312   0.06868544 -0.05886028]]\n"
     ]
    }
   ],
   "source": [
    "#feature coefficients\n",
    "regressor.fit(X1 / np.std(X1, 0), y1)\n",
    "print(regressor.coef_)"
   ]
  },
  {
   "cell_type": "code",
   "execution_count": 37,
   "id": "a40b4cfd",
   "metadata": {},
   "outputs": [
    {
     "name": "stdout",
     "output_type": "stream",
     "text": [
      "Feature: 0, Score: 0.10595\n",
      "Feature: 1, Score: -0.00185\n",
      "Feature: 2, Score: 0.02261\n",
      "Feature: 3, Score: 0.00247\n",
      "Feature: 4, Score: -0.02966\n"
     ]
    }
   ],
   "source": [
    "#plotting the feature importance\n",
    "#The coefficients are both positive and negative.\n",
    "# logistic regression for feature importance\n",
    "from matplotlib import pyplot\n",
    "# define the model\n",
    "model = LogisticRegression()\n",
    "# fit the model\n",
    "model.fit(X1, y1)\n",
    "# get importance\n",
    "importance = model.coef_[0]\n",
    "# summarize feature importance\n",
    "for i,v in enumerate(importance):\n",
    "    print('Feature: %0d, Score: %.5f' % (i,v))"
   ]
  },
  {
   "cell_type": "markdown",
   "id": "0f410521",
   "metadata": {},
   "source": [
    "* Hour(Feature 2) is the most important predictor for the Logestic Regression Model with value 0.02261, It is that much significant, since our significance level is 0.05, it is then follwed by device_make then experiment. \n",
    "* The least predictor for the Logestic Regression Model is date(Feature 1)"
   ]
  },
  {
   "cell_type": "markdown",
   "id": "417f90d8",
   "metadata": {},
   "source": [
    "## Using Platform Dataframe"
   ]
  },
  {
   "cell_type": "code",
   "execution_count": 38,
   "id": "2446db65",
   "metadata": {},
   "outputs": [
    {
     "name": "stdout",
     "output_type": "stream",
     "text": [
      "[0.54464286 0.54017857 0.57142857 0.52017937 0.53363229]\n",
      "Mean LogisticRegression score : 0.542012331838565\n"
     ]
    }
   ],
   "source": [
    "# Applying the 5-fold Cross validation on logistic Regression model\n",
    "regressor=LogisticRegression(random_state=None)\n",
    "regressor.fit(X11_train,y11_train) \n",
    "scores=cross_val_score(estimator=regressor,X=X11_train,y=y11_train,cv=5,scoring='accuracy')\n",
    "print(scores)\n",
    "print('Mean LogisticRegression score :',scores.mean())"
   ]
  },
  {
   "cell_type": "code",
   "execution_count": 39,
   "id": "ad93993d",
   "metadata": {},
   "outputs": [
    {
     "data": {
      "text/html": [
       "<div>\n",
       "<style scoped>\n",
       "    .dataframe tbody tr th:only-of-type {\n",
       "        vertical-align: middle;\n",
       "    }\n",
       "\n",
       "    .dataframe tbody tr th {\n",
       "        vertical-align: top;\n",
       "    }\n",
       "\n",
       "    .dataframe thead th {\n",
       "        text-align: right;\n",
       "    }\n",
       "</style>\n",
       "<table border=\"1\" class=\"dataframe\">\n",
       "  <thead>\n",
       "    <tr style=\"text-align: right;\">\n",
       "      <th></th>\n",
       "      <th>Scores</th>\n",
       "    </tr>\n",
       "  </thead>\n",
       "  <tbody>\n",
       "    <tr>\n",
       "      <th>0</th>\n",
       "      <td>0.544643</td>\n",
       "    </tr>\n",
       "    <tr>\n",
       "      <th>1</th>\n",
       "      <td>0.540179</td>\n",
       "    </tr>\n",
       "    <tr>\n",
       "      <th>2</th>\n",
       "      <td>0.571429</td>\n",
       "    </tr>\n",
       "    <tr>\n",
       "      <th>3</th>\n",
       "      <td>0.520179</td>\n",
       "    </tr>\n",
       "    <tr>\n",
       "      <th>4</th>\n",
       "      <td>0.533632</td>\n",
       "    </tr>\n",
       "  </tbody>\n",
       "</table>\n",
       "</div>"
      ],
      "text/plain": [
       "     Scores\n",
       "0  0.544643\n",
       "1  0.540179\n",
       "2  0.571429\n",
       "3  0.520179\n",
       "4  0.533632"
      ]
     },
     "execution_count": 39,
     "metadata": {},
     "output_type": "execute_result"
    }
   ],
   "source": [
    "# saving the output to a pandas dataframe\n",
    "scores1 = pd.DataFrame(scores,columns=['Scores']) \n",
    "scores1.head()"
   ]
  },
  {
   "cell_type": "code",
   "execution_count": 40,
   "id": "b67790a0",
   "metadata": {},
   "outputs": [
    {
     "data": {
      "image/png": "[encoded data removed]",
      "text/plain": [
       "<Figure size 432x288 with 1 Axes>"
      ]
     },
     "metadata": {},
     "output_type": "display_data"
    }
   ],
   "source": [
    "# plotting the accuracy score\n",
    "sns.set(style=\"dark\", rc={\"lines.linewidth\": 9})\n",
    "sns.barplot(x=['experiment','date','hour','devicemake','browser'],y=\"Scores\",data=scores1, color=\"red\")\n",
    "plt.show()\n",
    "sns.set()"
   ]
  },
  {
   "cell_type": "markdown",
   "id": "55b31a99",
   "metadata": {},
   "source": [
    "## Feature importance"
   ]
  },
  {
   "cell_type": "code",
   "execution_count": 41,
   "id": "957ad399",
   "metadata": {},
   "outputs": [
    {
     "name": "stdout",
     "output_type": "stream",
     "text": [
      "[[ 0.05509583 -0.0055177   0.12475151  0.06072356  0.09600945]]\n"
     ]
    }
   ],
   "source": [
    "#feature coefficients\n",
    "regressor.fit(X11 / np.std(X11, 0), y11)\n",
    "print(regressor.coef_)"
   ]
  },
  {
   "cell_type": "code",
   "execution_count": 42,
   "id": "ae7e3368",
   "metadata": {},
   "outputs": [
    {
     "name": "stdout",
     "output_type": "stream",
     "text": [
      "Feature: 0, Score: 0.11122\n",
      "Feature: 1, Score: -0.00205\n",
      "Feature: 2, Score: 0.02186\n",
      "Feature: 3, Score: 0.00193\n",
      "Feature: 4, Score: 0.63366\n"
     ]
    }
   ],
   "source": [
    "#plotting the feature importance\n",
    "#The coefficients are both positive and negative.\n",
    "# logistic regression for feature importance\n",
    "from matplotlib import pyplot\n",
    "# define the model\n",
    "model = LogisticRegression()\n",
    "# fit the model\n",
    "model.fit(X11, y11)\n",
    "# get importance\n",
    "importance = model.coef_[0]\n",
    "# summarize feature importance\n",
    "for i,v in enumerate(importance):\n",
    "    print('Feature: %0d, Score: %.5f' % (i,v))"
   ]
  },
  {
   "cell_type": "markdown",
   "id": "c0a70024",
   "metadata": {},
   "source": [
    "* Hour(Feature 2) is the most important predictor for the Logestic Regression Model with value 0.02186, \n",
    "  It is that much significant, since our significance level is 0.05, it is then follwed by device_make then \n",
    "  experiment.\n",
    "* The least predictor for the Logestic Regression Model is date(Feature 1)"
   ]
  },
  {
   "cell_type": "code",
   "execution_count": null,
   "id": "2389e941",
   "metadata": {},
   "outputs": [],
   "source": [
    "logesticRegressionModel = LogesticRegressionModel(X1_train, X1_test,  y1_train, y1_test)\n",
    "clf2, loss_arr_2, acc_arr_2 = logesticRegressionModel.train(5)\n",
    "logesticRegressionModel.write_model('browser_os_Logestic_Reg_model', clf2)"
   ]
  },
  {
   "cell_type": "markdown",
   "id": "24d82bf7",
   "metadata": {},
   "source": [
    "# 2 - XGBoost"
   ]
  },
  {
   "cell_type": "markdown",
   "id": "9256b3c0",
   "metadata": {},
   "source": [
    "## Using Browser Dataframe"
   ]
  },
  {
   "cell_type": "code",
   "execution_count": 61,
   "id": "f748a75c",
   "metadata": {},
   "outputs": [
    {
     "name": "stdout",
     "output_type": "stream",
     "text": [
      "Actual: 900     0\n",
      "1003    0\n",
      "671     0\n",
      "620     0\n",
      "926     0\n",
      "997     0\n",
      "745     0\n",
      "938     0\n",
      "451     1\n",
      "439     1\n",
      "Name: response, dtype: int64\n"
     ]
    }
   ],
   "source": [
    "# Define XGBoost Model\n",
    "xgb = XGBClassifier(n_estimators=1000, learning_rate=0.05)\n",
    "# We fit our model with our train data\n",
    "xgb.fit(\n",
    "    X1_train, y1_train,\n",
    "    # That means if model don't improve it self in 5 rounds, it will stop learning\n",
    "    # So you can save your time and don't overtrain your model.\n",
    "    early_stopping_rounds=5,\n",
    "    # We provide Test data's to evaluate model performance\n",
    "    eval_set=[(X1_test, y1_test)],\n",
    "    verbose=False\n",
    " )\n",
    "# Then predict results from X_test data\n",
    "pred_xgb = xgb.predict(X1_test)\n",
    "\n",
    "# See First 10 Predictions and They Actual Values\n",
    "# print(\"Predicted:\", pred_xgb[0:10])\n",
    "print(\"Actual:\", y1_test[0:10])"
   ]
  },
  {
   "cell_type": "code",
   "execution_count": 58,
   "id": "f3d5017e",
   "metadata": {},
   "outputs": [
    {
     "data": {
      "image/png": "[encoded data removed]",
      "text/plain": [
       "<Figure size 432x288 with 1 Axes>"
      ]
     },
     "metadata": {},
     "output_type": "display_data"
    }
   ],
   "source": [
    "from xgboost import plot_importance\n",
    "# fit model no training data\n",
    "model = XGBClassifier()\n",
    "model.fit(X1, y1)\n",
    "# plot feature importance\n",
    "plot_importance(model)\n",
    "pyplot.show()"
   ]
  },
  {
   "cell_type": "markdown",
   "id": "b4f3af0d",
   "metadata": {},
   "source": [
    "Data features relevant to predicting the target variable based on browser:\n",
    "* device_make\n",
    "* hour\n",
    "* date\n",
    "* browser\n",
    "* experiment"
   ]
  },
  {
   "cell_type": "markdown",
   "id": "1243dfdf",
   "metadata": {},
   "source": [
    "## Using platform Dataframe"
   ]
  },
  {
   "cell_type": "code",
   "execution_count": 62,
   "id": "d77c5d95",
   "metadata": {},
   "outputs": [
    {
     "name": "stdout",
     "output_type": "stream",
     "text": [
      "Actual: 900     0\n",
      "1003    0\n",
      "671     0\n",
      "620     0\n",
      "926     0\n",
      "997     0\n",
      "745     0\n",
      "938     0\n",
      "451     1\n",
      "439     1\n",
      "Name: response, dtype: int64\n"
     ]
    }
   ],
   "source": [
    "# Define XGBoost Model\n",
    "xgb = XGBClassifier(n_estimators=1000, learning_rate=0.05)\n",
    "# We fit our model with our train data\n",
    "xgb.fit(\n",
    "    X11_train, y11_train,\n",
    "    # That means if model don't improve it self in 5 rounds, it will stop learning\n",
    "    # So you can save your time and don't overtrain your model.\n",
    "    early_stopping_rounds=5,\n",
    "    # We provide Test data's to evaluate model performance\n",
    "    eval_set=[(X11_test, y11_test)],\n",
    "    verbose=False\n",
    " )\n",
    "# Then predict results from X_test data\n",
    "pred_xgb = xgb.predict(X11_test)\n",
    "\n",
    "# See First 10 Predictions and They Actual Values\n",
    "# print(\"Predicted:\", pred_xgb[0:10])\n",
    "print(\"Actual:\", y11_test[0:10])"
   ]
  },
  {
   "cell_type": "code",
   "execution_count": 59,
   "id": "367c8801",
   "metadata": {},
   "outputs": [
    {
     "data": {
      "image/png": "[encoded data removed]",
      "text/plain": [
       "<Figure size 432x288 with 1 Axes>"
      ]
     },
     "metadata": {},
     "output_type": "display_data"
    }
   ],
   "source": [
    "# fit model no training data\n",
    "model = XGBClassifier()\n",
    "model.fit(X11, y11)\n",
    "# plot feature importance\n",
    "plot_importance(model)\n",
    "pyplot.show()"
   ]
  },
  {
   "cell_type": "markdown",
   "id": "64387a36",
   "metadata": {},
   "source": [
    "Data features relevant to predicting the target variable based on platform:\n",
    "* device_make\n",
    "* hour\n",
    "* date\n",
    "* experiment"
   ]
  },
  {
   "cell_type": "code",
   "execution_count": null,
   "id": "3ce4fdd2",
   "metadata": {},
   "outputs": [],
   "source": [
    "xGBClassifierModel = XGBClassifierModel(X1_train, X1_test,  y1_train, y1_test)\n",
    "clf3, acc_arr, loss_arr = xGBClassifierModel.train(5)\n",
    "xGBClassifierModel.write_model('browser_os_XGBoost_model', clf3)"
   ]
  },
  {
   "cell_type": "markdown",
   "id": "67c3f551",
   "metadata": {},
   "source": [
    "# 3 - Decision Tree"
   ]
  },
  {
   "cell_type": "markdown",
   "id": "fbee0845",
   "metadata": {},
   "source": [
    "## Using platform Dataframe"
   ]
  },
  {
   "cell_type": "code",
   "execution_count": 63,
   "id": "daf834a0",
   "metadata": {},
   "outputs": [
    {
     "name": "stdout",
     "output_type": "stream",
     "text": [
      "Predicted: [0 1 1 0 1 1 0 1 0 0]\n",
      "Actual: 900     0\n",
      "1003    0\n",
      "671     0\n",
      "620     0\n",
      "926     0\n",
      "997     0\n",
      "745     0\n",
      "938     0\n",
      "451     1\n",
      "439     1\n",
      "Name: response, dtype: int64\n"
     ]
    }
   ],
   "source": [
    "# Define Decision Tree Model\n",
    "dt = DecisionTreeClassifier()\n",
    "# We fit our model with our train data\n",
    "dt.fit(X1_train, y1_train)\n",
    "# Then predict results from X_test data\n",
    "pred_dt = dt.predict(X1_test)\n",
    "\n",
    "# See First 10 Predictions and They Actual Values\n",
    "print(\"Predicted:\", pred_dt[0:10])\n",
    "print(\"Actual:\", y1_test[0:10])"
   ]
  },
  {
   "cell_type": "code",
   "execution_count": 65,
   "id": "1037147e",
   "metadata": {},
   "outputs": [
    {
     "name": "stdout",
     "output_type": "stream",
     "text": [
      "[0.53571429 0.53571429 0.48660714 0.56053812 0.48878924]\n",
      "Mean clf score : 0.5214726137091608\n"
     ]
    }
   ],
   "source": [
    "#Applying k-fold Cross validation on Decision tree\n",
    "clf = DecisionTreeClassifier()\n",
    "clf.fit(X1_train,y1_train)\n",
    "clf_scores=cross_val_score(estimator=clf,X=X1_train,y=y1_train,cv=5,scoring='accuracy')\n",
    "print(clf_scores)\n",
    "print('Mean clf score :',clf_scores.mean())"
   ]
  },
  {
   "cell_type": "code",
   "execution_count": 67,
   "id": "ef907b57",
   "metadata": {
    "scrolled": true
   },
   "outputs": [
    {
     "data": {
      "text/html": [
       "<div>\n",
       "<style scoped>\n",
       "    .dataframe tbody tr th:only-of-type {\n",
       "        vertical-align: middle;\n",
       "    }\n",
       "\n",
       "    .dataframe tbody tr th {\n",
       "        vertical-align: top;\n",
       "    }\n",
       "\n",
       "    .dataframe thead th {\n",
       "        text-align: right;\n",
       "    }\n",
       "</style>\n",
       "<table border=\"1\" class=\"dataframe\">\n",
       "  <thead>\n",
       "    <tr style=\"text-align: right;\">\n",
       "      <th></th>\n",
       "      <th>Scores</th>\n",
       "    </tr>\n",
       "  </thead>\n",
       "  <tbody>\n",
       "    <tr>\n",
       "      <th>0</th>\n",
       "      <td>0.535714</td>\n",
       "    </tr>\n",
       "    <tr>\n",
       "      <th>1</th>\n",
       "      <td>0.535714</td>\n",
       "    </tr>\n",
       "    <tr>\n",
       "      <th>2</th>\n",
       "      <td>0.486607</td>\n",
       "    </tr>\n",
       "    <tr>\n",
       "      <th>3</th>\n",
       "      <td>0.560538</td>\n",
       "    </tr>\n",
       "    <tr>\n",
       "      <th>4</th>\n",
       "      <td>0.488789</td>\n",
       "    </tr>\n",
       "  </tbody>\n",
       "</table>\n",
       "</div>"
      ],
      "text/plain": [
       "     Scores\n",
       "0  0.535714\n",
       "1  0.535714\n",
       "2  0.486607\n",
       "3  0.560538\n",
       "4  0.488789"
      ]
     },
     "execution_count": 67,
     "metadata": {},
     "output_type": "execute_result"
    }
   ],
   "source": [
    "scores2 = pd.DataFrame(clf_scores,columns=['Scores']) # saving the results into pandas dataframe\n",
    "scores2.head()"
   ]
  },
  {
   "cell_type": "code",
   "execution_count": 68,
   "id": "82f76988",
   "metadata": {
    "scrolled": true
   },
   "outputs": [
    {
     "name": "stdout",
     "output_type": "stream",
     "text": [
      "Feature: 0, Score: 0.08522\n",
      "Feature: 1, Score: 0.23059\n",
      "Feature: 2, Score: 0.29323\n",
      "Feature: 3, Score: 0.26374\n",
      "Feature: 4, Score: 0.12723\n"
     ]
    }
   ],
   "source": [
    "# define the model\n",
    "model = DecisionTreeClassifier()\n",
    "# fit the model\n",
    "model.fit(X1, y1)\n",
    "# get importance\n",
    "importance = model.feature_importances_\n",
    "# summarize feature importance\n",
    "for i,v in enumerate(importance):\n",
    "    print('Feature: %0d, Score: %.5f' % (i,v))\n",
    "# plot feature importance"
   ]
  },
  {
   "cell_type": "code",
   "execution_count": null,
   "id": "8592f9fb",
   "metadata": {},
   "outputs": [],
   "source": [
    "decisionTreesModel = DecisionTreesModel(X1_train, X1_test,  y1_train, y1_test)\n",
    "clf, acc_arr, loss_arr = decisionTreesModel.train(5)\n",
    "decisionTreesModel.write_model('platform_os_decision_tree_model', clf)"
   ]
  },
  {
   "cell_type": "markdown",
   "id": "29906f5a",
   "metadata": {},
   "source": [
    "# 4 - Random Forest"
   ]
  },
  {
   "cell_type": "code",
   "execution_count": 80,
   "id": "8ed83a0e",
   "metadata": {
    "scrolled": true
   },
   "outputs": [
    {
     "name": "stdout",
     "output_type": "stream",
     "text": [
      "Predicted: [0 0 1 1 1 1 0 0 0 0]\n",
      "Actual: 900     0\n",
      "1003    0\n",
      "671     0\n",
      "620     0\n",
      "926     0\n",
      "997     0\n",
      "745     0\n",
      "938     0\n",
      "451     1\n",
      "439     1\n",
      "Name: response, dtype: int64\n"
     ]
    }
   ],
   "source": [
    "# Define Random Forest Model\n",
    "rf = RandomForestClassifier(n_estimators=100)\n",
    "\n",
    "# We fit our model with our train data\n",
    "rf.fit(X1_train, y1_train)\n",
    "\n",
    "# Then predict results from X_test data\n",
    "pred_rf = rf.predict(X1_test)\n",
    "\n",
    "# See First 10 Predictions and They Actual Values\n",
    "print(\"Predicted:\", pred_rf[0:10])\n",
    "print(\"Actual:\", y1_test[0:10])"
   ]
  },
  {
   "cell_type": "markdown",
   "id": "f1d347f0",
   "metadata": {},
   "source": [
    "# Accuracy Scores\n",
    "* First parameter is actual value\n",
    "* second parameter is value that we prediceted"
   ]
  },
  {
   "cell_type": "code",
   "execution_count": 85,
   "id": "4450e503",
   "metadata": {},
   "outputs": [],
   "source": [
    "# Desicion Tree\n",
    "acc_dt = accuracy_score(y1_test, pred_dt)\n",
    "# Logistic Regression\n",
    "acc_log = accuracy_score(y1_test, pred_log)\n",
    "# XGBoost \n",
    "acc_xgb = accuracy_score(y1_test, pred_xgb)\n",
    "# Random Forest \n",
    "acc_rf = accuracy_score(y1_test, pred_rf)"
   ]
  },
  {
   "cell_type": "code",
   "execution_count": 86,
   "id": "4c691c68",
   "metadata": {},
   "outputs": [
    {
     "name": "stdout",
     "output_type": "stream",
     "text": [
      "***********************\n",
      "Accuracy Scores\n",
      "***********************\n",
      "Desicion Tree: 0.464\n",
      "Logistic Regression: 0.536\n",
      "XGBoost: 0.536\n",
      "Random Forest: 0.528\n"
     ]
    }
   ],
   "source": [
    "print(\"***********************\")\n",
    "print(\"Accuracy Scores\")\n",
    "print(\"***********************\")\n",
    "print(\"Desicion Tree:\", acc_dt)\n",
    "print(\"Logistic Regression:\", acc_log)\n",
    "print(\"XGBoost:\", acc_xgb)\n",
    "print(\"Random Forest:\", acc_rf)"
   ]
  },
  {
   "cell_type": "markdown",
   "id": "38678a0a",
   "metadata": {},
   "source": [
    "# Best Models\n",
    "* 1 - XGBoost\n",
    "* 2 - Logistic Regression\n",
    "* 3 - Random Forest"
   ]
  }
 ],
 "metadata": {
  "kernelspec": {
   "display_name": "Python 3 (ipykernel)",
   "language": "python",
   "name": "python3"
  },
  "language_info": {
   "codemirror_mode": {
    "name": "ipython",
    "version": 3
   },
   "file_extension": ".py",
   "mimetype": "text/x-python",
   "name": "python",
   "nbconvert_exporter": "python",
   "pygments_lexer": "ipython3",
   "version": "3.9.7"
  }
 },
 "nbformat": 4,
 "nbformat_minor": 5
}
